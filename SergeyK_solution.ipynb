{
 "cells": [
  {
   "cell_type": "code",
   "execution_count": 96,
   "metadata": {},
   "outputs": [
    {
     "data": {
      "text/plain": [
       "LinearRegression(copy_X=True, fit_intercept=True, n_jobs=None, normalize=False)"
      ]
     },
     "execution_count": 96,
     "metadata": {},
     "output_type": "execute_result"
    }
   ],
   "source": [
    "import numpy as np\n",
    "import pandas as pd\n",
    "from sklearn.preprocessing import StandardScaler\n",
    "from sklearn.linear_model import LinearRegression\n",
    "from sklearn.metrics import r2_score\n",
    "from sklearn.model_selection import train_test_split\n",
    "\n",
    "a = pd.read_csv('train.csv')\n",
    "df = a.drop('Healthcare_1', axis=1)\n",
    "df = df.drop('Id', axis=1)\n",
    "y = pd.DataFrame(df['Price'], columns=['Price'])\n",
    "df = df.drop('Price', axis=1)\n",
    "df = df.drop('LifeSquare', axis=1)\n",
    "\n",
    "def ob2int(ob):\n",
    "    dictob = dict([(i, char) for i, char in enumerate(set(df[ob]))])\n",
    "    for i in range(0, len(df)):\n",
    "        if df.at[i, ob] == dictob[0]:\n",
    "            df.at[i, ob] = 0\n",
    "        else:\n",
    "            df.at[i, ob] = 1\n",
    "    df[ob] = df[ob].astype('int')\n",
    "    return df[ob]\n",
    "\n",
    "ob2int('Ecology_2')\n",
    "ob2int('Ecology_3')\n",
    "ob2int('Shops_2')\n",
    "df.head()\n",
    "#df.info()\n",
    "\n",
    "scaler = StandardScaler()\n",
    "df_sc = scaler.fit_transform(df)\n",
    "df_sc = pd.DataFrame(df_sc, columns=df.columns)\n",
    "\n",
    "#df_sc.info()\n",
    "df_sc.head()\n",
    "#y.head()\n",
    "x_train, x_test, y_train, y_test = train_test_split(df, y, test_size=0.2)\n",
    "lr = LinearRegression()\n",
    "lr.fit(x_train, y_train)\n",
    "#df_sc.describe()\n"
   ]
  },
  {
   "cell_type": "code",
   "execution_count": 97,
   "metadata": {},
   "outputs": [
    {
     "data": {
      "text/plain": [
       "0.5007649743295075"
      ]
     },
     "execution_count": 97,
     "metadata": {},
     "output_type": "execute_result"
    }
   ],
   "source": [
    "y_pr = lr.predict(x_test)\n",
    "y_pr.shape\n",
    "r2_score(y_test, y_pr)"
   ]
  },
  {
   "cell_type": "code",
   "execution_count": null,
   "metadata": {},
   "outputs": [],
   "source": []
  }
 ],
 "metadata": {
  "kernelspec": {
   "display_name": "Python 3",
   "language": "python",
   "name": "python3"
  },
  "language_info": {
   "codemirror_mode": {
    "name": "ipython",
    "version": 3
   },
   "file_extension": ".py",
   "mimetype": "text/x-python",
   "name": "python",
   "nbconvert_exporter": "python",
   "pygments_lexer": "ipython3",
   "version": "3.6.9"
  }
 },
 "nbformat": 4,
 "nbformat_minor": 4
}
